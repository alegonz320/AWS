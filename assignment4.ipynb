{
 "cells": [
  {
   "cell_type": "code",
   "execution_count": 1,
   "metadata": {},
   "outputs": [],
   "source": [
    "your_name = \"Marta Gonzalez\"  \n",
    "your_uid = \"115350793\"\n",
    "received_help_from = \"If you have received help from others, list them here.\""
   ]
  },
  {
   "cell_type": "markdown",
   "metadata": {
    "deletable": false,
    "editable": false,
    "nbgrader": {
     "cell_type": "markdown",
     "checksum": "a11646bcc5915aa414f55e8bb9e23716",
     "grade": false,
     "grade_id": "cell-22662328fcd1db36",
     "locked": true,
     "schema_version": 3,
     "solution": false,
     "task": false
    }
   },
   "source": [
    "# Assignment 4: Vector Similarity\n",
    "\n",
    "In this programming exercise, let's implement a few similarity/distance functions. \n",
    "First, let's import the packages and dependencies that will be used in this part of the assignment."
   ]
  },
  {
   "cell_type": "code",
   "execution_count": 2,
   "metadata": {
    "deletable": false,
    "editable": false,
    "nbgrader": {
     "cell_type": "code",
     "checksum": "17bd5ee1d6f1f876a9c12dc98ca69f2f",
     "grade": false,
     "grade_id": "cell-e50576dcf1dc6ded",
     "locked": true,
     "schema_version": 3,
     "solution": false,
     "task": false
    }
   },
   "outputs": [],
   "source": [
    "from math import sqrt"
   ]
  },
  {
   "cell_type": "markdown",
   "metadata": {
    "deletable": false,
    "editable": false,
    "nbgrader": {
     "cell_type": "markdown",
     "checksum": "6c9901e9ed771dfe23312fbbdfef49a6",
     "grade": false,
     "grade_id": "cell-082fa29b4ce6f618",
     "locked": true,
     "schema_version": 3,
     "solution": false,
     "task": false
    }
   },
   "source": [
    "**<span style=\"color:red\">NOTE: These are all the imports we need to make for this assignment (Part II). You should not make other imports in your submitted notebook. You will receive 0 point for the exercises if your solution include additional imports.</span>**"
   ]
  },
  {
   "cell_type": "markdown",
   "metadata": {
    "deletable": false,
    "editable": false,
    "nbgrader": {
     "cell_type": "markdown",
     "checksum": "92ffbd2bc2423807b8e28e6802b7bd4e",
     "grade": false,
     "grade_id": "cell-87c66a15e813eea3",
     "locked": true,
     "schema_version": 3,
     "solution": false,
     "task": false
    }
   },
   "source": [
    "### Dot Product\n",
    "Dot product, also known as inner product, is defined as \n",
    "$$ \\vec{X}\\cdot \\vec{Y} = \\sum_i x_iy_i$$\n",
    "and it can be calculated with the following `dot_prod` function"
   ]
  },
  {
   "cell_type": "code",
   "execution_count": 3,
   "metadata": {
    "deletable": false,
    "editable": false,
    "nbgrader": {
     "cell_type": "code",
     "checksum": "d6d682f433acb50e016a9bc69104fef7",
     "grade": false,
     "grade_id": "cell-97758ca16791e710",
     "locked": true,
     "schema_version": 3,
     "solution": false,
     "task": false
    }
   },
   "outputs": [],
   "source": [
    "def dot_prod(vec_x, vec_y):\n",
    "    \"\"\"\n",
    "    For this assignment, you can assume the validity of the input, that is, \n",
    "    `vec_x` and `vec_y` are both arrays of float values with the same length. \n",
    "    \"\"\"\n",
    "    prod = 0\n",
    "    for i in range(len(vec_x)):\n",
    "        prod += vec_x[i] * vec_y[i]\n",
    "    return prod"
   ]
  },
  {
   "cell_type": "markdown",
   "metadata": {
    "deletable": false,
    "editable": false,
    "nbgrader": {
     "cell_type": "markdown",
     "checksum": "a805f25b5d7806ecd237ffd329f539a8",
     "grade": false,
     "grade_id": "cell-30875179e2bf8fe2",
     "locked": true,
     "schema_version": 3,
     "solution": false,
     "task": false
    }
   },
   "source": [
    "This function is to show you how dot product can be calculated. In fact, this function has already been implemented by the `numpy` package, and we can easily use `np.dot(vec_x, vec_y)` to calculate the the dot product, which is much more efficient."
   ]
  },
  {
   "cell_type": "markdown",
   "metadata": {
    "deletable": false,
    "editable": false,
    "nbgrader": {
     "cell_type": "markdown",
     "checksum": "63793e431aa47262c07136c2c1dcc4b4",
     "grade": false,
     "grade_id": "cell-4d77172178c69979",
     "locked": true,
     "schema_version": 3,
     "solution": false,
     "task": false
    }
   },
   "source": [
    "## Implementing similarity/distance metrics (1.5 pts, 0.5 pts for each)\n",
    "Now that we have shown you how to implement dot product, can you implement the other similarity/distance metrics introduced in the lectures? \n",
    "\n",
    "Note that *distance* and *similarity* are the opposite sides of the same concept. For each exercise, BE CAREFUL to see whether we are asking you to implement a **distance** or **similarity** metric. "
   ]
  },
  {
   "cell_type": "markdown",
   "metadata": {
    "deletable": false,
    "editable": false,
    "nbgrader": {
     "cell_type": "markdown",
     "checksum": "7c91d90069090bc3b7402b7a0407e927",
     "grade": false,
     "grade_id": "cell-24f51edfb23df3f8",
     "locked": true,
     "schema_version": 3,
     "solution": false,
     "task": false
    }
   },
   "source": [
    "### Exercise 1 Manhattan Distance\n",
    "Recall from the lecture, Manhattan Distance is defined as follows:\n",
    "$$d(\\vec{X}, \\vec{Y}) = \\sum_i |x_i - y_i|$$"
   ]
  },
  {
   "cell_type": "code",
   "execution_count": 31,
   "metadata": {
    "deletable": false,
    "nbgrader": {
     "cell_type": "code",
     "checksum": "9ba1a39ecccc64b9f29d5264e2f00fed",
     "grade": false,
     "grade_id": "cell-790815664b4f1ad0",
     "locked": false,
     "schema_version": 3,
     "solution": true,
     "task": false
    }
   },
   "outputs": [],
   "source": [
    "def manhattan_distance(vec_x, vec_y):\n",
    "    \"\"\"\n",
    "    For this assignment, you can assume the validity of the input, that is, \n",
    "    `vec_x` and `vec_y` are both arrays of float values with the same length. \n",
    "    \"\"\"\n",
    "    sum_abs = 0\n",
    "    for i in range(len(vec_x)):\n",
    "        # YOUR CODE HERE\n",
    "            sum_abs += (abs(vec_x[i] - vec_y[i]))\n",
    "    return sum_abs"
   ]
  },
  {
   "cell_type": "code",
   "execution_count": 32,
   "metadata": {
    "deletable": false,
    "editable": false,
    "nbgrader": {
     "cell_type": "code",
     "checksum": "29987215e298023ad6ee3140f0246f6d",
     "grade": true,
     "grade_id": "cell-1cb6fa73dfdf8e13",
     "locked": true,
     "points": 0.5,
     "schema_version": 3,
     "solution": false,
     "task": false
    }
   },
   "outputs": [],
   "source": [
    "# TESTS\n",
    "# This code block tests whether the `manhattan_distance` function is implemented correctly.\n",
    "\n",
    "assert abs(manhattan_distance([1, 1, 1, 1], [1, 1, 1, 2]) - 1) < 1e-8\n",
    "assert abs(manhattan_distance([1, 0, 1], [2, 0, 2]) - 2) < 1e-8"
   ]
  },
  {
   "cell_type": "markdown",
   "metadata": {
    "deletable": false,
    "editable": false,
    "nbgrader": {
     "cell_type": "markdown",
     "checksum": "8db1f78880c5401167c324ba72b0d80b",
     "grade": false,
     "grade_id": "cell-600ceddff6e38893",
     "locked": true,
     "schema_version": 3,
     "solution": false,
     "task": false
    }
   },
   "source": [
    "### Exercise 2 Euclidean Distance\n",
    "Recall from the lecture, Euclidean Distance is defined as\n",
    "$$ d(\\vec{X}, \\vec{Y}) = \\sqrt{\\sum_i(x_i-y_i)^2} $$"
   ]
  },
  {
   "cell_type": "code",
   "execution_count": 40,
   "metadata": {
    "deletable": false,
    "nbgrader": {
     "cell_type": "code",
     "checksum": "fc06a581cd014cd48f5db807c13aa319",
     "grade": false,
     "grade_id": "cell-37b62248be30f3ad",
     "locked": false,
     "schema_version": 3,
     "solution": true,
     "task": false
    }
   },
   "outputs": [],
   "source": [
    "def euclidean_distance(vec_x, vec_y):\n",
    "    \"\"\"\n",
    "    For this assignment, you can assume the validity of the input, that is, \n",
    "    `vec_x` and `vec_y` are both arrays of float values with the same length. \n",
    "    \"\"\"\n",
    "    sum_square = 0\n",
    "    # YOUR CODE HERE\n",
    "    for i in range(len(vec_x)):\n",
    "        sum_square += ((vec_x[i] - vec_y[i])**2)\n",
    "    return sqrt(sum_square)"
   ]
  },
  {
   "cell_type": "code",
   "execution_count": 41,
   "metadata": {},
   "outputs": [
    {
     "data": {
      "text/plain": [
       "1.4142135623730951"
      ]
     },
     "execution_count": 41,
     "metadata": {},
     "output_type": "execute_result"
    }
   ],
   "source": [
    "euclidean_distance([1, 0, 1], [2, 0, 2])"
   ]
  },
  {
   "cell_type": "code",
   "execution_count": 42,
   "metadata": {
    "deletable": false,
    "editable": false,
    "nbgrader": {
     "cell_type": "code",
     "checksum": "17df7a0bcaa40209bbb41df3ac6492c8",
     "grade": true,
     "grade_id": "cell-14c17a171cc8145c",
     "locked": true,
     "points": 0.5,
     "schema_version": 3,
     "solution": false,
     "task": false
    }
   },
   "outputs": [],
   "source": [
    "# TESTS\n",
    "# This code block tests whether the `manhattan_distance` function is implemented correctly.\n",
    "\n",
    "assert abs(euclidean_distance([1, 1, 1, 1], [1, 1, 1, 2]) - 1) < 1e-8\n",
    "assert abs(euclidean_distance([1, 0, 1], [2, 0, 2]) - sqrt(2)) < 1e-8"
   ]
  },
  {
   "cell_type": "markdown",
   "metadata": {
    "deletable": false,
    "editable": false,
    "nbgrader": {
     "cell_type": "markdown",
     "checksum": "07ec43a170879dd71ccb1788473baf77",
     "grade": false,
     "grade_id": "cell-07efbc94f3bc6cf3",
     "locked": true,
     "schema_version": 3,
     "solution": false,
     "task": false
    }
   },
   "source": [
    "#### Exercise 1(c) Cosine Similarity\n",
    "And finally, the cosine similarity is defined as:\n",
    "$$ \\cos(\\vec{X}, \\vec{Y}) = \\frac{\\sum_ix_iy_i}{\\sqrt{\\sum_ix_i^2}\\cdot\\sqrt{\\sum_iy_i^2}}$$"
   ]
  },
  {
   "cell_type": "code",
   "execution_count": 43,
   "metadata": {
    "deletable": false,
    "nbgrader": {
     "cell_type": "code",
     "checksum": "cce2668a45e51ae40cbd13d5217b327a",
     "grade": false,
     "grade_id": "cell-d710c833085da9ae",
     "locked": false,
     "schema_version": 3,
     "solution": true,
     "task": false
    }
   },
   "outputs": [],
   "source": [
    "def cosine_similarity(vec_x, vec_y):\n",
    "    \"\"\"\n",
    "    For this assignment, you can assume the validity of the input, that is, \n",
    "    `vec_x` and `vec_y` are both arrays of float values with the same length.\n",
    "    You can further assume that both vectors are not zero vector.\n",
    "    \"\"\"\n",
    "    sum_x2 = 0\n",
    "    sum_y2 = 0\n",
    "    sum_xy = 0\n",
    "    # YOUR CODE HERE\n",
    "    for i in range(len(vec_x)):\n",
    "        sum_xy += vec_x[i] * vec_y[i]\n",
    "        sum_x2 += vec_x[i]**2\n",
    "        sum_y2 += vec_y[i]**2\n",
    "    return (sum_xy / (sqrt(sum_x2) * sqrt(sum_y2)))"
   ]
  },
  {
   "cell_type": "code",
   "execution_count": 44,
   "metadata": {},
   "outputs": [
    {
     "data": {
      "text/plain": [
       "0.9999999999999998"
      ]
     },
     "execution_count": 44,
     "metadata": {},
     "output_type": "execute_result"
    }
   ],
   "source": [
    "cosine_similarity([1, 0, 1], [2, 0, 2])"
   ]
  },
  {
   "cell_type": "code",
   "execution_count": 45,
   "metadata": {
    "deletable": false,
    "editable": false,
    "nbgrader": {
     "cell_type": "code",
     "checksum": "7ce5eeb9afa84d96e4ed980ab40036ae",
     "grade": true,
     "grade_id": "cell-df556662efc7ab51",
     "locked": true,
     "points": 0.5,
     "schema_version": 3,
     "solution": false,
     "task": false
    }
   },
   "outputs": [],
   "source": [
    "# TESTS\n",
    "# This code block tests whether the `manhattan_distance` function is implemented correctly.\n",
    "\n",
    "assert abs(cosine_similarity([1, 1, 1, 1], [1, 1, 1, 2]) - 0.944911182523068) < 1e-8\n",
    "assert abs(cosine_similarity([1, 0, 1], [2, 0, 2]) - 1) < 1e-8"
   ]
  },
  {
   "cell_type": "markdown",
   "metadata": {
    "deletable": false,
    "editable": false,
    "nbgrader": {
     "cell_type": "markdown",
     "checksum": "989602d00554a34360d866e835a61ca9",
     "grade": false,
     "grade_id": "cell-236bd4dac1eaa8e0",
     "locked": true,
     "schema_version": 3,
     "solution": false,
     "task": false
    }
   },
   "source": [
    "### Final Note\n",
    "In this assignment, we have implemented several similarity/distance metrics by hand. In reality, however, it's better to use more efficient and professionally maintained implementations to calculate the metrics. Many packages (such as NumPy, SciPy, and scikit-learn) have done this for you. With many lower-level optimization tricks, they are much more efficient. In fact, you are encouraged to check out a few of them and compare with your implemented functions. Just make sure not to use them directly in your submission. \n",
    "\n",
    "- The SciPy documentation on distance metrics can be found [here](https://docs.scipy.org/doc/scipy/reference/spatial.distance.html). \n",
    "- NumPy does not implement these metrics directly, but it is very handy (and efficient) to implement with NumPy's vector operators. For example, cosine similarity can be implemented as `np.dot(x, y)/(np.linalg.norm(x) * np.linalg.norm(y))`, euclidean distance as `np.norm(x - y)`.\n",
    "- Scikit-learn offers many utility functions under `sklearn.metrics.pairwise` You can read more about it [here](https://scikit-learn.org/stable/modules/metrics.html). These APIs are very handy to calculate the *pairwise* similarity within a list (or between two lists) of vectors.\n",
    "\n",
    "When you use an API, **be careful to check whether it returns a <span style=\"color:red\"> distance </span> or <span style=\"color:red\"> similarity </span> metric.**"
   ]
  },
  {
   "cell_type": "code",
   "execution_count": null,
   "metadata": {},
   "outputs": [],
   "source": []
  }
 ],
 "metadata": {
  "kernelspec": {
   "display_name": "conda_python3",
   "language": "python",
   "name": "conda_python3"
  },
  "language_info": {
   "codemirror_mode": {
    "name": "ipython",
    "version": 3
   },
   "file_extension": ".py",
   "mimetype": "text/x-python",
   "name": "python",
   "nbconvert_exporter": "python",
   "pygments_lexer": "ipython3",
   "version": "3.6.10"
  }
 },
 "nbformat": 4,
 "nbformat_minor": 2
}
