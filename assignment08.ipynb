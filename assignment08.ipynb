{
 "cells": [
  {
   "cell_type": "code",
   "execution_count": 58,
   "metadata": {},
   "outputs": [],
   "source": [
    "your_name = \"Marta Gonzalez\"  \n",
    "your_uid = \"115350793\"\n",
    "received_help_from = \"If you have received help from others, list them here.\""
   ]
  },
  {
   "cell_type": "markdown",
   "metadata": {
    "deletable": false,
    "editable": false,
    "nbgrader": {
     "cell_type": "markdown",
     "checksum": "73b1d1d6fd77bfda9e40ec3a44ba97e6",
     "grade": false,
     "grade_id": "cell-7f89940cbce37d30",
     "locked": true,
     "schema_version": 3,
     "solution": false,
     "task": false
    }
   },
   "source": [
    "# Assignment 8\n",
    "\n",
    "For this assignment, you will be using a bank loan data set to see how we can build a classifier that can help identify potential customers who have a higher probability of purchasing the loan. You may read more about the data set at https://www.kaggle.com/itsmesunil/bank-loan-modelling.\n",
    "\n",
    "**For this assignment, please import necessary packages as you need.** For a good programming style, you should put all import command in the following cell. However, you may also import in the cell where you need to call the API. "
   ]
  },
  {
   "cell_type": "code",
   "execution_count": 59,
   "metadata": {},
   "outputs": [],
   "source": [
    "import pandas as pd\n",
    "import matplotlib.pyplot as plt\n",
    "import numpy as np\n",
    "\n",
    "from sklearn.preprocessing import PolynomialFeatures, MinMaxScaler\n",
    "\n",
    "from sklearn.model_selection import train_test_split, cross_val_score, validation_curve\n",
    "\n",
    "from sklearn.linear_model import LogisticRegression\n",
    "from sklearn.svm import LinearSVC"
   ]
  },
  {
   "cell_type": "code",
   "execution_count": 60,
   "metadata": {
    "deletable": false,
    "editable": false,
    "nbgrader": {
     "cell_type": "code",
     "checksum": "7a597b8ce27e5c72c7efc8ec198cc5e5",
     "grade": false,
     "grade_id": "cell-24285e91b65ffd10",
     "locked": true,
     "schema_version": 3,
     "solution": false,
     "task": false
    }
   },
   "outputs": [],
   "source": [
    "df = pd.read_csv(\"Bank_Personal_Loan_Modelling.csv\")"
   ]
  },
  {
   "cell_type": "code",
   "execution_count": 61,
   "metadata": {
    "deletable": false,
    "editable": false,
    "nbgrader": {
     "cell_type": "code",
     "checksum": "939db0b91477cb674c3bf292db6a599b",
     "grade": false,
     "grade_id": "cell-a39aaf4fe4e89560",
     "locked": true,
     "schema_version": 3,
     "solution": false,
     "task": false
    }
   },
   "outputs": [
    {
     "data": {
      "text/plain": [
       "Index(['ID', 'Age', 'Experience', 'Income', 'ZIP Code', 'Family', 'CCAvg',\n",
       "       'Education', 'Mortgage', 'Personal Loan', 'Securities Account',\n",
       "       'CD Account', 'Online', 'CreditCard'],\n",
       "      dtype='object')"
      ]
     },
     "execution_count": 61,
     "metadata": {},
     "output_type": "execute_result"
    }
   ],
   "source": [
    "df.columns"
   ]
  },
  {
   "cell_type": "code",
   "execution_count": 62,
   "metadata": {
    "deletable": false,
    "editable": false,
    "nbgrader": {
     "cell_type": "code",
     "checksum": "3cf8700a8b847a248d66dbd690c1892d",
     "grade": false,
     "grade_id": "cell-7fc27ad7c26389ab",
     "locked": true,
     "schema_version": 3,
     "solution": false,
     "task": false
    }
   },
   "outputs": [],
   "source": [
    "X = df[['Age', 'Experience', 'Income', 'Family', 'CCAvg', 'Mortgage', 'Securities Account',\n",
    "       'CD Account', 'Online', 'CreditCard']].values"
   ]
  },
  {
   "cell_type": "code",
   "execution_count": 63,
   "metadata": {
    "deletable": false,
    "editable": false,
    "nbgrader": {
     "cell_type": "code",
     "checksum": "83d269540602c198d899af8a68b17ba0",
     "grade": false,
     "grade_id": "cell-10218c71aa9d0410",
     "locked": true,
     "schema_version": 3,
     "solution": false,
     "task": false
    }
   },
   "outputs": [],
   "source": [
    "y = df['Personal Loan'].values"
   ]
  },
  {
   "cell_type": "code",
   "execution_count": 64,
   "metadata": {
    "deletable": false,
    "editable": false,
    "nbgrader": {
     "cell_type": "code",
     "checksum": "70a4d95b3e26d9d5486dae23891b8cf4",
     "grade": false,
     "grade_id": "cell-81a2c8c3868eb3cd",
     "locked": true,
     "schema_version": 3,
     "solution": false,
     "task": false
    }
   },
   "outputs": [],
   "source": [
    "X_train, X_test, y_train, y_test = train_test_split(X, y, random_state = 5)"
   ]
  },
  {
   "cell_type": "markdown",
   "metadata": {
    "deletable": false,
    "editable": false,
    "nbgrader": {
     "cell_type": "markdown",
     "checksum": "013ebb93993ecd676df4032900d32902",
     "grade": false,
     "grade_id": "cell-01d5afefa243e687",
     "locked": true,
     "schema_version": 3,
     "solution": false,
     "task": false
    }
   },
   "source": [
    "## Exercise 1 Logistic Regression (1 pt)\n",
    "\n",
    "Please use the LogisticRegression API to implement a logistic regression classifier. More specifically, you should follow these steps:\n",
    "1. Declare a LogisticRegression object. Note that by default, the scikit-learn package specifies a L2 normalization term for its logistic regression model, you can \"disable it\" by setting a very large C, such as C=1e20, or specify penalty to be 'none'.\n",
    "2. Fit the logistic regression model using the training data, that is, X_train and y_train.\n",
    "3. Evaluate the performance of the logistic regression model on both the training set and the test set."
   ]
  },
  {
   "cell_type": "code",
   "execution_count": 65,
   "metadata": {
    "deletable": false,
    "nbgrader": {
     "cell_type": "code",
     "checksum": "369760d71ef579ad37113ea90a94f668",
     "grade": false,
     "grade_id": "cell-9eed8556e7a48be1",
     "locked": false,
     "schema_version": 3,
     "solution": true,
     "task": false
    }
   },
   "outputs": [],
   "source": [
    "def ex1():\n",
    "    # YOUR CODE HERE\n",
    "    logReg = LogisticRegression(penalty = 'none', max_iter = 10000, random_state = 5).fit(X_train, y_train)\n",
    "    train_score = logReg.score(X_train, y_train)\n",
    "    test_score = logReg.score(X_test, y_test)\n",
    "    return train_score, test_score"
   ]
  },
  {
   "cell_type": "code",
   "execution_count": 66,
   "metadata": {
    "deletable": false,
    "editable": false,
    "nbgrader": {
     "cell_type": "code",
     "checksum": "479119424f3ae5e68b55bde29c5de373",
     "grade": true,
     "grade_id": "cell-18a7a299fe3be59b",
     "locked": true,
     "points": 1,
     "schema_version": 3,
     "solution": false,
     "task": false
    }
   },
   "outputs": [
    {
     "ename": "AssertionError",
     "evalue": "test score is not as expected.",
     "output_type": "error",
     "traceback": [
      "\u001b[0;31m---------------------------------------------------------------------------\u001b[0m",
      "\u001b[0;31mAssertionError\u001b[0m                            Traceback (most recent call last)",
      "\u001b[0;32m<ipython-input-66-82cb52e46e71>\u001b[0m in \u001b[0;36m<module>\u001b[0;34m\u001b[0m\n\u001b[1;32m      1\u001b[0m \u001b[0mans_train_score\u001b[0m\u001b[0;34m,\u001b[0m \u001b[0mans_test_score\u001b[0m \u001b[0;34m=\u001b[0m \u001b[0mex1\u001b[0m\u001b[0;34m(\u001b[0m\u001b[0;34m)\u001b[0m\u001b[0;34m\u001b[0m\u001b[0;34m\u001b[0m\u001b[0m\n\u001b[1;32m      2\u001b[0m \u001b[0;32massert\u001b[0m \u001b[0mabs\u001b[0m\u001b[0;34m(\u001b[0m\u001b[0mans_train_score\u001b[0m \u001b[0;34m-\u001b[0m \u001b[0;36m0.936\u001b[0m\u001b[0;34m)\u001b[0m \u001b[0;34m<\u001b[0m \u001b[0;36m1e-6\u001b[0m\u001b[0;34m,\u001b[0m \u001b[0;34m\"training score is not as expected.\"\u001b[0m\u001b[0;34m\u001b[0m\u001b[0;34m\u001b[0m\u001b[0m\n\u001b[0;32m----> 3\u001b[0;31m \u001b[0;32massert\u001b[0m \u001b[0mabs\u001b[0m\u001b[0;34m(\u001b[0m\u001b[0mans_test_score\u001b[0m \u001b[0;34m-\u001b[0m \u001b[0;36m0.9344\u001b[0m\u001b[0;34m)\u001b[0m \u001b[0;34m<\u001b[0m \u001b[0;36m1e-6\u001b[0m\u001b[0;34m,\u001b[0m \u001b[0;34m\"test score is not as expected.\"\u001b[0m\u001b[0;34m\u001b[0m\u001b[0;34m\u001b[0m\u001b[0m\n\u001b[0m",
      "\u001b[0;31mAssertionError\u001b[0m: test score is not as expected."
     ]
    }
   ],
   "source": [
    "ans_train_score, ans_test_score = ex1()\n",
    "assert abs(ans_train_score - 0.936) < 1e-6, \"training score is not as expected.\"\n",
    "assert abs(ans_test_score - 0.9344) < 1e-6, \"test score is not as expected.\""
   ]
  },
  {
   "cell_type": "markdown",
   "metadata": {
    "deletable": false,
    "editable": false,
    "nbgrader": {
     "cell_type": "markdown",
     "checksum": "2ba288180640c46c53f4775e202f784b",
     "grade": false,
     "grade_id": "cell-d3d87da67bb0aa95",
     "locked": true,
     "schema_version": 3,
     "solution": false,
     "task": false
    }
   },
   "source": [
    "## Exercise 2 Feature Normalization (1 pts)\n",
    "Next, let's use feature normalization and polynomial feature expension to improve the performance of the model. We have done these two steps on the training set. In this exercise, please apply these steps to the test set. \n",
    "\n",
    "**Note that the exact same normalization should be applied to the training and test set. Therefore, the StandardScaler and PolynomialFeatures object should only be \"fit\" once.**"
   ]
  },
  {
   "cell_type": "code",
   "execution_count": 34,
   "metadata": {
    "deletable": false,
    "editable": false,
    "nbgrader": {
     "cell_type": "code",
     "checksum": "313375c98415c86602312ba2523491df",
     "grade": false,
     "grade_id": "cell-63751bd9a7ba1ffc",
     "locked": true,
     "schema_version": 3,
     "solution": false,
     "task": false
    }
   },
   "outputs": [],
   "source": [
    "minmax = MinMaxScaler()\n",
    "poly = PolynomialFeatures(degree=2)\n",
    "\n",
    "minmax.fit(X_train)\n",
    "\n",
    "X_train_scaled = minmax.transform(X_train)\n",
    "X_train_poly = poly.fit_transform(X_train_scaled)"
   ]
  },
  {
   "cell_type": "code",
   "execution_count": 41,
   "metadata": {
    "deletable": false,
    "nbgrader": {
     "cell_type": "code",
     "checksum": "95d0a8f85d1f72c2eaa1149a7f957aad",
     "grade": false,
     "grade_id": "cell-104a6f04f924ba85",
     "locked": false,
     "schema_version": 3,
     "solution": true,
     "task": false
    }
   },
   "outputs": [],
   "source": [
    "def ex2(X_test):\n",
    "    # YOUR CODE HERE\n",
    "    X_test_scaled = minmax.transform(X_test)\n",
    "    X_test_poly = poly.fit_transform(X_test_scaled)\n",
    "    return X_test_poly"
   ]
  },
  {
   "cell_type": "code",
   "execution_count": 42,
   "metadata": {},
   "outputs": [],
   "source": [
    "X_test_poly = ex2(X_test)"
   ]
  },
  {
   "cell_type": "code",
   "execution_count": 43,
   "metadata": {
    "deletable": false,
    "editable": false,
    "nbgrader": {
     "cell_type": "code",
     "checksum": "f494d545745bd52f5757c3585e7a579e",
     "grade": true,
     "grade_id": "cell-79e6f6368713f7b0",
     "locked": true,
     "points": 1,
     "schema_version": 3,
     "solution": false,
     "task": false
    }
   },
   "outputs": [],
   "source": [
    "assert X_test_poly.shape == (1250, 66)\n",
    "assert abs(X_test_poly[1, 1] - 0.84090909) < 1e-6\n",
    "assert abs(X_test_poly[1247, 2] - 0.39130435) < 1e-6"
   ]
  },
  {
   "cell_type": "markdown",
   "metadata": {
    "deletable": false,
    "editable": false,
    "nbgrader": {
     "cell_type": "markdown",
     "checksum": "0105cfa5b31a535e20f259ac8aa499cd",
     "grade": false,
     "grade_id": "cell-5fd24596cf5e2355",
     "locked": true,
     "schema_version": 3,
     "solution": false,
     "task": false
    }
   },
   "source": [
    "## Exercise 3 Logistic Regression with New Features (1 pts)\n",
    "With the normalized and expanded features, we can then re-run the logistic regression to see if that improves the performance. Complete the following function to train a new logistic regression model on X_train_poly and evaluate its performance on both the training set (X_training_poly) and test set (X_test_poly).\n",
    "\n",
    "This answer may be very similar to `ex1()` but please make sure you are using the curret datasets for training and testing. "
   ]
  },
  {
   "cell_type": "code",
   "execution_count": 81,
   "metadata": {
    "deletable": false,
    "nbgrader": {
     "cell_type": "code",
     "checksum": "0f0fcb3be07894ab803061846e620ce2",
     "grade": false,
     "grade_id": "cell-7e8f512c44914edd",
     "locked": false,
     "schema_version": 3,
     "solution": true,
     "task": false
    }
   },
   "outputs": [],
   "source": [
    "def ex3():\n",
    "    # YOUR CODE HERE\n",
    "    logReg = LogisticRegression(penalty = 'none', max_iter = 10000, random_state = 5).fit(X_train_poly, y_train)\n",
    "    train_score = logReg.score(X_train_poly, y_train)\n",
    "    test_score = logReg.score(X_test_poly, y_test)\n",
    "    return train_score, test_score"
   ]
  },
  {
   "cell_type": "code",
   "execution_count": 82,
   "metadata": {},
   "outputs": [
    {
     "data": {
      "text/plain": [
       "(0.9597333333333333, 0.9472)"
      ]
     },
     "execution_count": 82,
     "metadata": {},
     "output_type": "execute_result"
    }
   ],
   "source": [
    "ex3()"
   ]
  },
  {
   "cell_type": "code",
   "execution_count": 83,
   "metadata": {
    "deletable": false,
    "editable": false,
    "nbgrader": {
     "cell_type": "code",
     "checksum": "f6e9bfe4a0723996f70a8b79441c4033",
     "grade": true,
     "grade_id": "cell-c0b9ab2a88a15b4c",
     "locked": true,
     "points": 1,
     "schema_version": 3,
     "solution": false,
     "task": false
    }
   },
   "outputs": [],
   "source": [
    "ans_train_score, ans_test_score = ex3()\n",
    "assert abs(ans_train_score - 0.95973333) < 1e-6, \"training score is not as expected.\"\n",
    "assert abs(ans_test_score - 0.9472) < 1e-6, \"test score is not as expected.\""
   ]
  },
  {
   "cell_type": "markdown",
   "metadata": {
    "deletable": false,
    "editable": false,
    "nbgrader": {
     "cell_type": "markdown",
     "checksum": "8ce74e5c7e0080ff3f29fabf69c2c098",
     "grade": false,
     "grade_id": "cell-bdd0de24675968ef",
     "locked": true,
     "schema_version": 3,
     "solution": false,
     "task": false
    }
   },
   "source": [
    "## Exercise 1 Cross Validation (1 pts)\n",
    "In the last exercise, let's see how we can use cross validation to find the best parameter for the Logistic Regression. We have prepared the code for you. Please run the following code block to obtain the training scores and the validation scores (it might take up to one minute to run the code).\n",
    "\n",
    "Please examinine the train_scores and the validation_scores and determine which value should the parameter C take. You may plot the validation curve as shown in the lab session, or simply calculate and compare the mean. Please Indicate your answer in the corresponding cell."
   ]
  },
  {
   "cell_type": "code",
   "execution_count": 84,
   "metadata": {
    "deletable": false,
    "editable": false,
    "nbgrader": {
     "cell_type": "code",
     "checksum": "14a8469f094c3646e414767589539812",
     "grade": false,
     "grade_id": "cell-2002866414555094",
     "locked": true,
     "schema_version": 3,
     "solution": false,
     "task": false
    }
   },
   "outputs": [],
   "source": [
    "para_range = [0.01, 0.1, 1, 10, 100, 1000]\n",
    "logit = LogisticRegression(max_iter=5000, penalty='l2')\n",
    "train_scores, validation_scores = \\\n",
    "    validation_curve(estimator=logit,\n",
    "                     X=X_train_poly, \n",
    "                     y=y_train, \n",
    "                     param_name=\"C\", \n",
    "                     param_range=para_range,\n",
    "                     cv=5)"
   ]
  },
  {
   "cell_type": "code",
   "execution_count": 85,
   "metadata": {
    "deletable": false,
    "editable": false,
    "nbgrader": {
     "cell_type": "code",
     "checksum": "3fac4ddce4ceab3e2ac25371cdc32536",
     "grade": false,
     "grade_id": "cell-d407a702a6cfbdf3",
     "locked": true,
     "schema_version": 3,
     "solution": false,
     "task": false
    }
   },
   "outputs": [
    {
     "data": {
      "text/plain": [
       "<matplotlib.legend.Legend at 0x7f60f7179ef0>"
      ]
     },
     "execution_count": 85,
     "metadata": {},
     "output_type": "execute_result"
    },
    {
     "data": {
      "image/png": "[encoded data removed]",
      "text/plain": [
       "<Figure size 432x288 with 1 Axes>"
      ]
     },
     "metadata": {
      "needs_background": "light"
     },
     "output_type": "display_data"
    }
   ],
   "source": [
    "training_score_mean = train_scores.mean(axis=1)\n",
    "validation_score_mean = validation_scores.mean(axis=1)\n",
    "\n",
    "plt.plot(para_range, training_score_mean, 's-', label=\"training\")\n",
    "plt.plot(para_range, validation_score_mean, 'o-', label=\"validation\")\n",
    "plt.xscale(\"log\")\n",
    "plt.legend()"
   ]
  },
  {
   "cell_type": "code",
   "execution_count": 86,
   "metadata": {
    "deletable": false,
    "nbgrader": {
     "cell_type": "code",
     "checksum": "8807d9e282e81659c34afe7dfc3ff44f",
     "grade": false,
     "grade_id": "cell-fc32bc5d7cc77e4d",
     "locked": false,
     "schema_version": 3,
     "solution": true,
     "task": false
    }
   },
   "outputs": [],
   "source": [
    "# Please incidate your answer of the best C based on the cross validation result.\n",
    "# For example, if you believe the best C is x, you can simply write `return x`\n",
    "\n",
    "def best_c():\n",
    "    # YOUR CODE HERE\n",
    "    return 100"
   ]
  },
  {
   "cell_type": "code",
   "execution_count": 87,
   "metadata": {
    "deletable": false,
    "editable": false,
    "nbgrader": {
     "cell_type": "code",
     "checksum": "5aa0297402225f7bfa7de2dbd52eca97",
     "grade": true,
     "grade_id": "cell-585ebdfc7e37a2ac",
     "locked": true,
     "points": 1,
     "schema_version": 3,
     "solution": false,
     "task": false
    }
   },
   "outputs": [],
   "source": [
    "# This cell contains hidden test to determine if your `best_c()` function returns the correct value of C.\n",
    "# For example, if the currect answer is x, then assertion is as follows:\n",
    "# assert abs(best_c() - x) < 1e-6\n"
   ]
  },
  {
   "cell_type": "markdown",
   "metadata": {
    "deletable": false,
    "editable": false,
    "nbgrader": {
     "cell_type": "markdown",
     "checksum": "af5f27ce0d451495932c2818f812eef3",
     "grade": false,
     "grade_id": "cell-e6465d5d31f89e04",
     "locked": true,
     "schema_version": 3,
     "solution": false,
     "task": false
    }
   },
   "source": [
    "## Bonus Exercise (up to 0.3 pts)\n",
    "Instead of using Logistic Regression, can you repeat the previous steps and train a Linear SVM model? The Linear SVM model has been implemented as LinearSVC, which we have imported for you. Repeat the steps (building classifier, expanding and normalizing features, cross validations) to see how well Linear SVC performs on the same data.\n",
    "\n",
    "Tentative grading scheme for this bonus exercise would be: 0.1 pts for SVM, 0.1 pts for feature normalization, 0.1 pts for cross validation."
   ]
  },
  {
   "cell_type": "code",
   "execution_count": null,
   "metadata": {},
   "outputs": [],
   "source": [
    "# Feel free to add additional code blocks for your bonus exercise."
   ]
  }
 ],
 "metadata": {
  "kernelspec": {
   "display_name": "conda_python3",
   "language": "python",
   "name": "conda_python3"
  },
  "language_info": {
   "codemirror_mode": {
    "name": "ipython",
    "version": 3
   },
   "file_extension": ".py",
   "mimetype": "text/x-python",
   "name": "python",
   "nbconvert_exporter": "python",
   "pygments_lexer": "ipython3",
   "version": "3.6.10"
  }
 },
 "nbformat": 4,
 "nbformat_minor": 4
}
