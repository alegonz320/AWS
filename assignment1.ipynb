{
 "cells": [
  {
   "cell_type": "markdown",
   "metadata": {
    "deletable": false,
    "editable": false,
    "nbgrader": {
     "cell_type": "markdown",
     "checksum": "03bbe71b12e83a58caa46945c35758c9",
     "grade": false,
     "grade_id": "cell-853a77355db4f62d",
     "locked": true,
     "schema_version": 3,
     "solution": false,
     "task": false
    }
   },
   "source": [
    "**Note: Please do not change the file name of this notebook.**"
   ]
  },
  {
   "cell_type": "code",
   "execution_count": 15,
   "metadata": {},
   "outputs": [],
   "source": [
    "your_name = \"Marta Gonzalez\"  \n",
    "your_uid = \"115350793\""
   ]
  },
  {
   "cell_type": "markdown",
   "metadata": {
    "deletable": false,
    "editable": false,
    "nbgrader": {
     "cell_type": "markdown",
     "checksum": "c30adb45dde3d0d5b0bae41c39d0209e",
     "grade": false,
     "grade_id": "cell-f03fbb65a2190b8e",
     "locked": true,
     "schema_version": 3,
     "solution": false,
     "task": false
    }
   },
   "source": [
    "# Data Manipulation Homeworks"
   ]
  },
  {
   "cell_type": "markdown",
   "metadata": {
    "deletable": false,
    "editable": false,
    "nbgrader": {
     "cell_type": "markdown",
     "checksum": "8dc8970f989cfc26e9d1d84e87e212e3",
     "grade": false,
     "grade_id": "cell-313f4b83ec798acb",
     "locked": true,
     "schema_version": 3,
     "solution": false,
     "task": false
    }
   },
   "source": [
    "Let's practice our data manipulation skills on a restaurant rating dataset. The dataset consists of several csv file.\n",
    "\n",
    "- `ratings.csv`  -- consumers' ratings for a restaurant.\n",
    "- `userprofile.csv` -- consumers' profile information.\n",
    "- `cuisine.csv` -- the cuisine provided by each restaurant\n",
    "- `parking.csv` -- parking information of each restaurant.\n",
    "\n",
    "Let's start by loading the data and examine the first few rows of each table."
   ]
  },
  {
   "cell_type": "code",
   "execution_count": 16,
   "metadata": {
    "deletable": false,
    "editable": false,
    "nbgrader": {
     "cell_type": "code",
     "checksum": "e7b02f2c3c9e3697979711280119a659",
     "grade": false,
     "grade_id": "cell-d1adb049700ecaea",
     "locked": true,
     "schema_version": 3,
     "solution": false,
     "task": false
    }
   },
   "outputs": [],
   "source": [
    "import pandas as pd\n",
    "import numpy as np"
   ]
  },
  {
   "cell_type": "code",
   "execution_count": 17,
   "metadata": {
    "deletable": false,
    "editable": false,
    "nbgrader": {
     "cell_type": "code",
     "checksum": "3bc6c3cbff220948f3cc7caff9e2e70f",
     "grade": false,
     "grade_id": "cell-0b0db3cbc0bff49b",
     "locked": true,
     "schema_version": 3,
     "solution": false,
     "task": false
    }
   },
   "outputs": [],
   "source": [
    "# load data to dataframe\n",
    "ratings = pd.read_csv('./data/ratings.csv')\n",
    "userprofile = pd.read_csv('./data/userprofile.csv')\n",
    "cuisine = pd.read_csv('./data/cuisine.csv')\n",
    "parking = pd.read_csv('./data/parking.csv')"
   ]
  },
  {
   "cell_type": "markdown",
   "metadata": {
    "deletable": false,
    "editable": false,
    "nbgrader": {
     "cell_type": "markdown",
     "checksum": "8f7ac849595d32212ab6bd8fedd9f217",
     "grade": false,
     "grade_id": "cell-9b1f3975a7330a4f",
     "locked": true,
     "schema_version": 3,
     "solution": false,
     "task": false
    }
   },
   "source": [
    "Let's first examine the first few rows of each table."
   ]
  },
  {
   "cell_type": "code",
   "execution_count": 18,
   "metadata": {
    "deletable": false,
    "editable": false,
    "nbgrader": {
     "cell_type": "code",
     "checksum": "a900b4eca1744fa2a65485f348eb5a8c",
     "grade": false,
     "grade_id": "cell-9f9b685b3e5fab7d",
     "locked": true,
     "schema_version": 3,
     "solution": false,
     "task": false
    }
   },
   "outputs": [
    {
     "data": {
      "text/html": [
       "<div>\n",
       "<style scoped>\n",
       "    .dataframe tbody tr th:only-of-type {\n",
       "        vertical-align: middle;\n",
       "    }\n",
       "\n",
       "    .dataframe tbody tr th {\n",
       "        vertical-align: top;\n",
       "    }\n",
       "\n",
       "    .dataframe thead th {\n",
       "        text-align: right;\n",
       "    }\n",
       "</style>\n",
       "<table border=\"1\" class=\"dataframe\">\n",
       "  <thead>\n",
       "    <tr style=\"text-align: right;\">\n",
       "      <th></th>\n",
       "      <th>userID</th>\n",
       "      <th>placeID</th>\n",
       "      <th>rating</th>\n",
       "      <th>food_rating</th>\n",
       "      <th>service_rating</th>\n",
       "    </tr>\n",
       "  </thead>\n",
       "  <tbody>\n",
       "    <tr>\n",
       "      <th>0</th>\n",
       "      <td>U1077</td>\n",
       "      <td>135085</td>\n",
       "      <td>2</td>\n",
       "      <td>2</td>\n",
       "      <td>2</td>\n",
       "    </tr>\n",
       "    <tr>\n",
       "      <th>1</th>\n",
       "      <td>U1077</td>\n",
       "      <td>135038</td>\n",
       "      <td>2</td>\n",
       "      <td>2</td>\n",
       "      <td>1</td>\n",
       "    </tr>\n",
       "    <tr>\n",
       "      <th>2</th>\n",
       "      <td>U1077</td>\n",
       "      <td>132825</td>\n",
       "      <td>2</td>\n",
       "      <td>2</td>\n",
       "      <td>2</td>\n",
       "    </tr>\n",
       "    <tr>\n",
       "      <th>3</th>\n",
       "      <td>U1077</td>\n",
       "      <td>135060</td>\n",
       "      <td>1</td>\n",
       "      <td>2</td>\n",
       "      <td>2</td>\n",
       "    </tr>\n",
       "    <tr>\n",
       "      <th>4</th>\n",
       "      <td>U1068</td>\n",
       "      <td>135104</td>\n",
       "      <td>1</td>\n",
       "      <td>1</td>\n",
       "      <td>2</td>\n",
       "    </tr>\n",
       "  </tbody>\n",
       "</table>\n",
       "</div>"
      ],
      "text/plain": [
       "  userID  placeID  rating  food_rating  service_rating\n",
       "0  U1077   135085       2            2               2\n",
       "1  U1077   135038       2            2               1\n",
       "2  U1077   132825       2            2               2\n",
       "3  U1077   135060       1            2               2\n",
       "4  U1068   135104       1            1               2"
      ]
     },
     "execution_count": 18,
     "metadata": {},
     "output_type": "execute_result"
    }
   ],
   "source": [
    "ratings.head()"
   ]
  },
  {
   "cell_type": "code",
   "execution_count": 19,
   "metadata": {
    "deletable": false,
    "editable": false,
    "nbgrader": {
     "cell_type": "code",
     "checksum": "662ac5bf0be23b34f3c900849b465af0",
     "grade": false,
     "grade_id": "cell-1bb56fa7c27a3f50",
     "locked": true,
     "schema_version": 3,
     "solution": false,
     "task": false
    }
   },
   "outputs": [
    {
     "data": {
      "text/html": [
       "<div>\n",
       "<style scoped>\n",
       "    .dataframe tbody tr th:only-of-type {\n",
       "        vertical-align: middle;\n",
       "    }\n",
       "\n",
       "    .dataframe tbody tr th {\n",
       "        vertical-align: top;\n",
       "    }\n",
       "\n",
       "    .dataframe thead th {\n",
       "        text-align: right;\n",
       "    }\n",
       "</style>\n",
       "<table border=\"1\" class=\"dataframe\">\n",
       "  <thead>\n",
       "    <tr style=\"text-align: right;\">\n",
       "      <th></th>\n",
       "      <th>userID</th>\n",
       "      <th>latitude</th>\n",
       "      <th>longitude</th>\n",
       "      <th>smoker</th>\n",
       "      <th>drink_level</th>\n",
       "      <th>dress_preference</th>\n",
       "      <th>ambience</th>\n",
       "      <th>transport</th>\n",
       "      <th>marital_status</th>\n",
       "      <th>hijos</th>\n",
       "      <th>birth_year</th>\n",
       "      <th>interest</th>\n",
       "      <th>personality</th>\n",
       "      <th>religion</th>\n",
       "      <th>activity</th>\n",
       "      <th>color</th>\n",
       "      <th>weight</th>\n",
       "      <th>budget</th>\n",
       "      <th>height</th>\n",
       "    </tr>\n",
       "  </thead>\n",
       "  <tbody>\n",
       "    <tr>\n",
       "      <th>0</th>\n",
       "      <td>U1001</td>\n",
       "      <td>22.139997</td>\n",
       "      <td>-100.978803</td>\n",
       "      <td>False</td>\n",
       "      <td>abstemious</td>\n",
       "      <td>informal</td>\n",
       "      <td>family</td>\n",
       "      <td>on foot</td>\n",
       "      <td>single</td>\n",
       "      <td>independent</td>\n",
       "      <td>1989</td>\n",
       "      <td>variety</td>\n",
       "      <td>thrifty-protector</td>\n",
       "      <td>none</td>\n",
       "      <td>student</td>\n",
       "      <td>black</td>\n",
       "      <td>69</td>\n",
       "      <td>medium</td>\n",
       "      <td>1.77</td>\n",
       "    </tr>\n",
       "    <tr>\n",
       "      <th>1</th>\n",
       "      <td>U1002</td>\n",
       "      <td>22.150087</td>\n",
       "      <td>-100.983325</td>\n",
       "      <td>False</td>\n",
       "      <td>abstemious</td>\n",
       "      <td>informal</td>\n",
       "      <td>family</td>\n",
       "      <td>public</td>\n",
       "      <td>single</td>\n",
       "      <td>independent</td>\n",
       "      <td>1990</td>\n",
       "      <td>technology</td>\n",
       "      <td>hunter-ostentatious</td>\n",
       "      <td>Catholic</td>\n",
       "      <td>student</td>\n",
       "      <td>red</td>\n",
       "      <td>40</td>\n",
       "      <td>low</td>\n",
       "      <td>1.87</td>\n",
       "    </tr>\n",
       "    <tr>\n",
       "      <th>2</th>\n",
       "      <td>U1003</td>\n",
       "      <td>22.119847</td>\n",
       "      <td>-100.946527</td>\n",
       "      <td>False</td>\n",
       "      <td>social drinker</td>\n",
       "      <td>formal</td>\n",
       "      <td>family</td>\n",
       "      <td>public</td>\n",
       "      <td>single</td>\n",
       "      <td>independent</td>\n",
       "      <td>1989</td>\n",
       "      <td>none</td>\n",
       "      <td>hard-worker</td>\n",
       "      <td>Catholic</td>\n",
       "      <td>student</td>\n",
       "      <td>blue</td>\n",
       "      <td>60</td>\n",
       "      <td>low</td>\n",
       "      <td>1.69</td>\n",
       "    </tr>\n",
       "    <tr>\n",
       "      <th>3</th>\n",
       "      <td>U1004</td>\n",
       "      <td>18.867000</td>\n",
       "      <td>-99.183000</td>\n",
       "      <td>False</td>\n",
       "      <td>abstemious</td>\n",
       "      <td>informal</td>\n",
       "      <td>family</td>\n",
       "      <td>public</td>\n",
       "      <td>single</td>\n",
       "      <td>independent</td>\n",
       "      <td>1940</td>\n",
       "      <td>variety</td>\n",
       "      <td>hard-worker</td>\n",
       "      <td>none</td>\n",
       "      <td>professional</td>\n",
       "      <td>green</td>\n",
       "      <td>44</td>\n",
       "      <td>medium</td>\n",
       "      <td>1.53</td>\n",
       "    </tr>\n",
       "    <tr>\n",
       "      <th>4</th>\n",
       "      <td>U1005</td>\n",
       "      <td>22.183477</td>\n",
       "      <td>-100.959891</td>\n",
       "      <td>False</td>\n",
       "      <td>abstemious</td>\n",
       "      <td>no preference</td>\n",
       "      <td>family</td>\n",
       "      <td>public</td>\n",
       "      <td>single</td>\n",
       "      <td>independent</td>\n",
       "      <td>1992</td>\n",
       "      <td>none</td>\n",
       "      <td>thrifty-protector</td>\n",
       "      <td>Catholic</td>\n",
       "      <td>student</td>\n",
       "      <td>black</td>\n",
       "      <td>65</td>\n",
       "      <td>medium</td>\n",
       "      <td>1.69</td>\n",
       "    </tr>\n",
       "  </tbody>\n",
       "</table>\n",
       "</div>"
      ],
      "text/plain": [
       "  userID   latitude   longitude smoker     drink_level dress_preference  \\\n",
       "0  U1001  22.139997 -100.978803  False      abstemious         informal   \n",
       "1  U1002  22.150087 -100.983325  False      abstemious         informal   \n",
       "2  U1003  22.119847 -100.946527  False  social drinker           formal   \n",
       "3  U1004  18.867000  -99.183000  False      abstemious         informal   \n",
       "4  U1005  22.183477 -100.959891  False      abstemious    no preference   \n",
       "\n",
       "  ambience transport marital_status        hijos  birth_year    interest  \\\n",
       "0   family   on foot         single  independent        1989     variety   \n",
       "1   family    public         single  independent        1990  technology   \n",
       "2   family    public         single  independent        1989        none   \n",
       "3   family    public         single  independent        1940     variety   \n",
       "4   family    public         single  independent        1992        none   \n",
       "\n",
       "           personality  religion      activity  color  weight  budget  height  \n",
       "0    thrifty-protector      none       student  black      69  medium    1.77  \n",
       "1  hunter-ostentatious  Catholic       student    red      40     low    1.87  \n",
       "2          hard-worker  Catholic       student   blue      60     low    1.69  \n",
       "3          hard-worker      none  professional  green      44  medium    1.53  \n",
       "4    thrifty-protector  Catholic       student  black      65  medium    1.69  "
      ]
     },
     "execution_count": 19,
     "metadata": {},
     "output_type": "execute_result"
    }
   ],
   "source": [
    "userprofile.head()"
   ]
  },
  {
   "cell_type": "code",
   "execution_count": 20,
   "metadata": {
    "deletable": false,
    "editable": false,
    "nbgrader": {
     "cell_type": "code",
     "checksum": "d81153ec4fcb8b6bb51d26229e6085e0",
     "grade": false,
     "grade_id": "cell-b627cbfd48138e62",
     "locked": true,
     "schema_version": 3,
     "solution": false,
     "task": false
    }
   },
   "outputs": [
    {
     "data": {
      "text/html": [
       "<div>\n",
       "<style scoped>\n",
       "    .dataframe tbody tr th:only-of-type {\n",
       "        vertical-align: middle;\n",
       "    }\n",
       "\n",
       "    .dataframe tbody tr th {\n",
       "        vertical-align: top;\n",
       "    }\n",
       "\n",
       "    .dataframe thead th {\n",
       "        text-align: right;\n",
       "    }\n",
       "</style>\n",
       "<table border=\"1\" class=\"dataframe\">\n",
       "  <thead>\n",
       "    <tr style=\"text-align: right;\">\n",
       "      <th></th>\n",
       "      <th>placeID</th>\n",
       "      <th>cuisine</th>\n",
       "    </tr>\n",
       "  </thead>\n",
       "  <tbody>\n",
       "    <tr>\n",
       "      <th>0</th>\n",
       "      <td>135110</td>\n",
       "      <td>Spanish</td>\n",
       "    </tr>\n",
       "    <tr>\n",
       "      <th>1</th>\n",
       "      <td>135109</td>\n",
       "      <td>Italian</td>\n",
       "    </tr>\n",
       "    <tr>\n",
       "      <th>2</th>\n",
       "      <td>135107</td>\n",
       "      <td>Latin_American</td>\n",
       "    </tr>\n",
       "    <tr>\n",
       "      <th>3</th>\n",
       "      <td>135106</td>\n",
       "      <td>Mexican</td>\n",
       "    </tr>\n",
       "    <tr>\n",
       "      <th>4</th>\n",
       "      <td>135105</td>\n",
       "      <td>Fast_Food</td>\n",
       "    </tr>\n",
       "  </tbody>\n",
       "</table>\n",
       "</div>"
      ],
      "text/plain": [
       "   placeID         cuisine\n",
       "0   135110         Spanish\n",
       "1   135109         Italian\n",
       "2   135107  Latin_American\n",
       "3   135106         Mexican\n",
       "4   135105       Fast_Food"
      ]
     },
     "execution_count": 20,
     "metadata": {},
     "output_type": "execute_result"
    }
   ],
   "source": [
    "cuisine.head()"
   ]
  },
  {
   "cell_type": "code",
   "execution_count": 21,
   "metadata": {
    "deletable": false,
    "editable": false,
    "nbgrader": {
     "cell_type": "code",
     "checksum": "38eb2bc4ca38c8f58df50896c9cb5d4c",
     "grade": false,
     "grade_id": "cell-ff4e552c38b99afa",
     "locked": true,
     "schema_version": 3,
     "solution": false,
     "task": false
    }
   },
   "outputs": [
    {
     "data": {
      "text/html": [
       "<div>\n",
       "<style scoped>\n",
       "    .dataframe tbody tr th:only-of-type {\n",
       "        vertical-align: middle;\n",
       "    }\n",
       "\n",
       "    .dataframe tbody tr th {\n",
       "        vertical-align: top;\n",
       "    }\n",
       "\n",
       "    .dataframe thead th {\n",
       "        text-align: right;\n",
       "    }\n",
       "</style>\n",
       "<table border=\"1\" class=\"dataframe\">\n",
       "  <thead>\n",
       "    <tr style=\"text-align: right;\">\n",
       "      <th></th>\n",
       "      <th>placeID</th>\n",
       "      <th>parking_lot</th>\n",
       "    </tr>\n",
       "  </thead>\n",
       "  <tbody>\n",
       "    <tr>\n",
       "      <th>0</th>\n",
       "      <td>135111</td>\n",
       "      <td>public</td>\n",
       "    </tr>\n",
       "    <tr>\n",
       "      <th>1</th>\n",
       "      <td>135110</td>\n",
       "      <td>none</td>\n",
       "    </tr>\n",
       "    <tr>\n",
       "      <th>2</th>\n",
       "      <td>135109</td>\n",
       "      <td>none</td>\n",
       "    </tr>\n",
       "    <tr>\n",
       "      <th>3</th>\n",
       "      <td>135108</td>\n",
       "      <td>none</td>\n",
       "    </tr>\n",
       "    <tr>\n",
       "      <th>4</th>\n",
       "      <td>135107</td>\n",
       "      <td>none</td>\n",
       "    </tr>\n",
       "  </tbody>\n",
       "</table>\n",
       "</div>"
      ],
      "text/plain": [
       "   placeID parking_lot\n",
       "0   135111      public\n",
       "1   135110        none\n",
       "2   135109        none\n",
       "3   135108        none\n",
       "4   135107        none"
      ]
     },
     "execution_count": 21,
     "metadata": {},
     "output_type": "execute_result"
    }
   ],
   "source": [
    "parking.head()"
   ]
  },
  {
   "cell_type": "markdown",
   "metadata": {
    "deletable": false,
    "editable": false,
    "nbgrader": {
     "cell_type": "markdown",
     "checksum": "dc3387a01b474ac47602cec63e3d48e6",
     "grade": false,
     "grade_id": "cell-a356a407bd1d82f2",
     "locked": true,
     "schema_version": 3,
     "solution": false,
     "task": false
    }
   },
   "source": [
    "### Exercise 0 (0 pts)\n",
    "\n",
    "The following exercise is to give you a flavor of the autograded assignment. We have provided the correct answer. All you need to do is to paste the provided answer under the `# YOUR CODE HERE` and delete `raise NotImplementedError()`. This function obtains the shape of the input `dataframe`. If you implement the function correctly, it will pass the `assert` statement in the following code blocks. \n",
    "\n",
    "The `assert` statement evalaute whether the boolean statement after it is correct or not. If the statement is True, `assert` returns nothing. But if the statement is False, the assert will return an exception. The autograding system relies on the assert statements to grade your assignments. Please do not try to temper the test blocks to game the system, as the autograder will detect such changes and complain."
   ]
  },
  {
   "cell_type": "code",
   "execution_count": 22,
   "metadata": {
    "deletable": false,
    "nbgrader": {
     "cell_type": "code",
     "checksum": "dec41328e6b112c1bfbdbd679cf9435e",
     "grade": false,
     "grade_id": "ex0",
     "locked": false,
     "schema_version": 3,
     "solution": true,
     "task": false
    }
   },
   "outputs": [],
   "source": [
    "# The correct answer for this exercise is\n",
    "# shape = dataframe.shape\n",
    "\n",
    "def get_shape(dataframe):\n",
    "    # YOUR CODE HERE\n",
    "    shape = dataframe.shape\n",
    "    return shape"
   ]
  },
  {
   "cell_type": "code",
   "execution_count": 23,
   "metadata": {},
   "outputs": [
    {
     "data": {
      "text/plain": [
       "(138, 19)"
      ]
     },
     "execution_count": 23,
     "metadata": {},
     "output_type": "execute_result"
    }
   ],
   "source": [
    "get_shape(userprofile)"
   ]
  },
  {
   "cell_type": "code",
   "execution_count": 24,
   "metadata": {
    "deletable": false,
    "editable": false,
    "nbgrader": {
     "cell_type": "code",
     "checksum": "c7e2d958839a7335286fc9d3f8069f38",
     "grade": true,
     "grade_id": "ex0-test",
     "locked": true,
     "points": 0,
     "schema_version": 3,
     "solution": false,
     "task": false
    }
   },
   "outputs": [],
   "source": [
    "# we will rely on code blocks like this one to test whether you have complete your code correctly.\n",
    "assert get_shape(parking) == (702, 2)\n",
    "assert get_shape(userprofile) == (138, 19)"
   ]
  },
  {
   "cell_type": "markdown",
   "metadata": {
    "deletable": false,
    "editable": false,
    "nbgrader": {
     "cell_type": "markdown",
     "checksum": "d72becb9b50bf5d820c19a8dcdd297b0",
     "grade": false,
     "grade_id": "cell-1060a3b7bd2c4935",
     "locked": true,
     "schema_version": 3,
     "solution": false,
     "task": false
    }
   },
   "source": [
    "## Filtering"
   ]
  },
  {
   "cell_type": "markdown",
   "metadata": {
    "deletable": false,
    "editable": false,
    "nbgrader": {
     "cell_type": "markdown",
     "checksum": "4d6eac770841c41bc4b0536dcacd25dd",
     "grade": false,
     "grade_id": "cell-0ea3d9579204b718",
     "locked": true,
     "schema_version": 3,
     "solution": false,
     "task": false
    }
   },
   "source": [
    "To better understand users' preference, we may need to examine a subset of users meeting certain criteria, so let's practice using filtering as selection here."
   ]
  },
  {
   "cell_type": "code",
   "execution_count": 25,
   "metadata": {
    "deletable": false,
    "editable": false,
    "nbgrader": {
     "cell_type": "code",
     "checksum": "5f27da1346ae19997829e0e54f55412b",
     "grade": false,
     "grade_id": "cell-1948118debbde831",
     "locked": true,
     "schema_version": 3,
     "solution": false,
     "task": false
    }
   },
   "outputs": [
    {
     "data": {
      "text/html": [
       "<div>\n",
       "<style scoped>\n",
       "    .dataframe tbody tr th:only-of-type {\n",
       "        vertical-align: middle;\n",
       "    }\n",
       "\n",
       "    .dataframe tbody tr th {\n",
       "        vertical-align: top;\n",
       "    }\n",
       "\n",
       "    .dataframe thead th {\n",
       "        text-align: right;\n",
       "    }\n",
       "</style>\n",
       "<table border=\"1\" class=\"dataframe\">\n",
       "  <thead>\n",
       "    <tr style=\"text-align: right;\">\n",
       "      <th></th>\n",
       "      <th>userID</th>\n",
       "      <th>latitude</th>\n",
       "      <th>longitude</th>\n",
       "      <th>smoker</th>\n",
       "      <th>drink_level</th>\n",
       "      <th>dress_preference</th>\n",
       "      <th>ambience</th>\n",
       "      <th>transport</th>\n",
       "      <th>marital_status</th>\n",
       "      <th>hijos</th>\n",
       "      <th>birth_year</th>\n",
       "      <th>interest</th>\n",
       "      <th>personality</th>\n",
       "      <th>religion</th>\n",
       "      <th>activity</th>\n",
       "      <th>color</th>\n",
       "      <th>weight</th>\n",
       "      <th>budget</th>\n",
       "      <th>height</th>\n",
       "    </tr>\n",
       "  </thead>\n",
       "  <tbody>\n",
       "    <tr>\n",
       "      <th>12</th>\n",
       "      <td>U1013</td>\n",
       "      <td>22.174624</td>\n",
       "      <td>-100.993873</td>\n",
       "      <td>False</td>\n",
       "      <td>abstemious</td>\n",
       "      <td>no preference</td>\n",
       "      <td>friends</td>\n",
       "      <td>public</td>\n",
       "      <td>widow</td>\n",
       "      <td>independent</td>\n",
       "      <td>1982</td>\n",
       "      <td>retro</td>\n",
       "      <td>thrifty-protector</td>\n",
       "      <td>none</td>\n",
       "      <td>professional</td>\n",
       "      <td>blue</td>\n",
       "      <td>80</td>\n",
       "      <td>medium</td>\n",
       "      <td>1.75</td>\n",
       "    </tr>\n",
       "    <tr>\n",
       "      <th>16</th>\n",
       "      <td>U1017</td>\n",
       "      <td>18.952615</td>\n",
       "      <td>-99.201616</td>\n",
       "      <td>False</td>\n",
       "      <td>casual drinker</td>\n",
       "      <td>formal</td>\n",
       "      <td>family</td>\n",
       "      <td>public</td>\n",
       "      <td>single</td>\n",
       "      <td>NaN</td>\n",
       "      <td>1991</td>\n",
       "      <td>retro</td>\n",
       "      <td>hunter-ostentatious</td>\n",
       "      <td>none</td>\n",
       "      <td>professional</td>\n",
       "      <td>orange</td>\n",
       "      <td>79</td>\n",
       "      <td>medium</td>\n",
       "      <td>1.79</td>\n",
       "    </tr>\n",
       "    <tr>\n",
       "      <th>26</th>\n",
       "      <td>U1027</td>\n",
       "      <td>22.165150</td>\n",
       "      <td>-100.987015</td>\n",
       "      <td>True</td>\n",
       "      <td>social drinker</td>\n",
       "      <td>no preference</td>\n",
       "      <td>NaN</td>\n",
       "      <td>public</td>\n",
       "      <td>single</td>\n",
       "      <td>independent</td>\n",
       "      <td>1989</td>\n",
       "      <td>retro</td>\n",
       "      <td>thrifty-protector</td>\n",
       "      <td>Catholic</td>\n",
       "      <td>student</td>\n",
       "      <td>purple</td>\n",
       "      <td>60</td>\n",
       "      <td>low</td>\n",
       "      <td>1.65</td>\n",
       "    </tr>\n",
       "    <tr>\n",
       "      <th>45</th>\n",
       "      <td>U1046</td>\n",
       "      <td>22.144415</td>\n",
       "      <td>-100.933097</td>\n",
       "      <td>False</td>\n",
       "      <td>social drinker</td>\n",
       "      <td>no preference</td>\n",
       "      <td>friends</td>\n",
       "      <td>car owner</td>\n",
       "      <td>single</td>\n",
       "      <td>independent</td>\n",
       "      <td>1990</td>\n",
       "      <td>retro</td>\n",
       "      <td>hard-worker</td>\n",
       "      <td>Catholic</td>\n",
       "      <td>student</td>\n",
       "      <td>black</td>\n",
       "      <td>82</td>\n",
       "      <td>medium</td>\n",
       "      <td>1.84</td>\n",
       "    </tr>\n",
       "    <tr>\n",
       "      <th>46</th>\n",
       "      <td>U1047</td>\n",
       "      <td>22.142429</td>\n",
       "      <td>-100.949147</td>\n",
       "      <td>False</td>\n",
       "      <td>abstemious</td>\n",
       "      <td>no preference</td>\n",
       "      <td>family</td>\n",
       "      <td>public</td>\n",
       "      <td>single</td>\n",
       "      <td>independent</td>\n",
       "      <td>1992</td>\n",
       "      <td>retro</td>\n",
       "      <td>thrifty-protector</td>\n",
       "      <td>Catholic</td>\n",
       "      <td>student</td>\n",
       "      <td>purple</td>\n",
       "      <td>60</td>\n",
       "      <td>medium</td>\n",
       "      <td>1.63</td>\n",
       "    </tr>\n",
       "    <tr>\n",
       "      <th>135</th>\n",
       "      <td>U1136</td>\n",
       "      <td>22.149607</td>\n",
       "      <td>-100.997235</td>\n",
       "      <td>True</td>\n",
       "      <td>social drinker</td>\n",
       "      <td>no preference</td>\n",
       "      <td>friends</td>\n",
       "      <td>car owner</td>\n",
       "      <td>single</td>\n",
       "      <td>independent</td>\n",
       "      <td>1990</td>\n",
       "      <td>retro</td>\n",
       "      <td>thrifty-protector</td>\n",
       "      <td>Catholic</td>\n",
       "      <td>student</td>\n",
       "      <td>black</td>\n",
       "      <td>50</td>\n",
       "      <td>low</td>\n",
       "      <td>1.60</td>\n",
       "    </tr>\n",
       "  </tbody>\n",
       "</table>\n",
       "</div>"
      ],
      "text/plain": [
       "    userID   latitude   longitude smoker     drink_level dress_preference  \\\n",
       "12   U1013  22.174624 -100.993873  False      abstemious    no preference   \n",
       "16   U1017  18.952615  -99.201616  False  casual drinker           formal   \n",
       "26   U1027  22.165150 -100.987015   True  social drinker    no preference   \n",
       "45   U1046  22.144415 -100.933097  False  social drinker    no preference   \n",
       "46   U1047  22.142429 -100.949147  False      abstemious    no preference   \n",
       "135  U1136  22.149607 -100.997235   True  social drinker    no preference   \n",
       "\n",
       "    ambience  transport marital_status        hijos  birth_year interest  \\\n",
       "12   friends     public          widow  independent        1982    retro   \n",
       "16    family     public         single          NaN        1991    retro   \n",
       "26       NaN     public         single  independent        1989    retro   \n",
       "45   friends  car owner         single  independent        1990    retro   \n",
       "46    family     public         single  independent        1992    retro   \n",
       "135  friends  car owner         single  independent        1990    retro   \n",
       "\n",
       "             personality  religion      activity   color  weight  budget  \\\n",
       "12     thrifty-protector      none  professional    blue      80  medium   \n",
       "16   hunter-ostentatious      none  professional  orange      79  medium   \n",
       "26     thrifty-protector  Catholic       student  purple      60     low   \n",
       "45           hard-worker  Catholic       student   black      82  medium   \n",
       "46     thrifty-protector  Catholic       student  purple      60  medium   \n",
       "135    thrifty-protector  Catholic       student   black      50     low   \n",
       "\n",
       "     height  \n",
       "12     1.75  \n",
       "16     1.79  \n",
       "26     1.65  \n",
       "45     1.84  \n",
       "46     1.63  \n",
       "135    1.60  "
      ]
     },
     "execution_count": 25,
     "metadata": {},
     "output_type": "execute_result"
    }
   ],
   "source": [
    "# example: we can use the following code to examine users who listed \"retro\" as personality\n",
    "userprofile[userprofile.interest == \"retro\"]"
   ]
  },
  {
   "cell_type": "markdown",
   "metadata": {
    "deletable": false,
    "editable": false,
    "nbgrader": {
     "cell_type": "markdown",
     "checksum": "a1e73ab81961d8cf2e01d80e904131e2",
     "grade": false,
     "grade_id": "cell-bdaa65676a859e1e",
     "locked": true,
     "schema_version": 3,
     "solution": false,
     "task": false
    }
   },
   "source": [
    "### Exercise 1 (1 pt)\n",
    "Please complete the `user_with_birth_year` function to return a subset of the `userprofile` dataframe with the `birth_year` equal to `y`. We have provided the explicit `assert` statements to help you evaluate your answer."
   ]
  },
  {
   "cell_type": "code",
   "execution_count": 63,
   "metadata": {
    "deletable": false,
    "nbgrader": {
     "cell_type": "code",
     "checksum": "cc7a122a5a4f5b84fedccce8a5554fa8",
     "grade": false,
     "grade_id": "ex1",
     "locked": false,
     "schema_version": 3,
     "solution": true,
     "task": false
    }
   },
   "outputs": [],
   "source": [
    "# Exercise 1:\n",
    "def user_with_birth_year(y):\n",
    "    # YOUR CODE HERE\n",
    "    return userprofile[userprofile.birth_year == y]"
   ]
  },
  {
   "cell_type": "code",
   "execution_count": 64,
   "metadata": {},
   "outputs": [
    {
     "data": {
      "text/html": [
       "<div>\n",
       "<style scoped>\n",
       "    .dataframe tbody tr th:only-of-type {\n",
       "        vertical-align: middle;\n",
       "    }\n",
       "\n",
       "    .dataframe tbody tr th {\n",
       "        vertical-align: top;\n",
       "    }\n",
       "\n",
       "    .dataframe thead th {\n",
       "        text-align: right;\n",
       "    }\n",
       "</style>\n",
       "<table border=\"1\" class=\"dataframe\">\n",
       "  <thead>\n",
       "    <tr style=\"text-align: right;\">\n",
       "      <th></th>\n",
       "      <th>userID</th>\n",
       "      <th>latitude</th>\n",
       "      <th>longitude</th>\n",
       "      <th>smoker</th>\n",
       "      <th>drink_level</th>\n",
       "      <th>dress_preference</th>\n",
       "      <th>ambience</th>\n",
       "      <th>transport</th>\n",
       "      <th>marital_status</th>\n",
       "      <th>hijos</th>\n",
       "      <th>birth_year</th>\n",
       "      <th>interest</th>\n",
       "      <th>personality</th>\n",
       "      <th>religion</th>\n",
       "      <th>activity</th>\n",
       "      <th>color</th>\n",
       "      <th>weight</th>\n",
       "      <th>budget</th>\n",
       "      <th>height</th>\n",
       "    </tr>\n",
       "  </thead>\n",
       "  <tbody>\n",
       "    <tr>\n",
       "      <th>34</th>\n",
       "      <td>U1035</td>\n",
       "      <td>18.839671</td>\n",
       "      <td>-99.223897</td>\n",
       "      <td>True</td>\n",
       "      <td>casual drinker</td>\n",
       "      <td>no preference</td>\n",
       "      <td>friends</td>\n",
       "      <td>car owner</td>\n",
       "      <td>single</td>\n",
       "      <td>independent</td>\n",
       "      <td>1985</td>\n",
       "      <td>variety</td>\n",
       "      <td>hunter-ostentatious</td>\n",
       "      <td>none</td>\n",
       "      <td>student</td>\n",
       "      <td>red</td>\n",
       "      <td>69</td>\n",
       "      <td>medium</td>\n",
       "      <td>1.75</td>\n",
       "    </tr>\n",
       "    <tr>\n",
       "      <th>40</th>\n",
       "      <td>U1041</td>\n",
       "      <td>18.935191</td>\n",
       "      <td>-99.236240</td>\n",
       "      <td>False</td>\n",
       "      <td>abstemious</td>\n",
       "      <td>no preference</td>\n",
       "      <td>friends</td>\n",
       "      <td>on foot</td>\n",
       "      <td>single</td>\n",
       "      <td>independent</td>\n",
       "      <td>1985</td>\n",
       "      <td>eco-friendly</td>\n",
       "      <td>hunter-ostentatious</td>\n",
       "      <td>Catholic</td>\n",
       "      <td>professional</td>\n",
       "      <td>white</td>\n",
       "      <td>40</td>\n",
       "      <td>medium</td>\n",
       "      <td>1.62</td>\n",
       "    </tr>\n",
       "    <tr>\n",
       "      <th>61</th>\n",
       "      <td>U1062</td>\n",
       "      <td>22.195826</td>\n",
       "      <td>-101.006317</td>\n",
       "      <td>False</td>\n",
       "      <td>casual drinker</td>\n",
       "      <td>informal</td>\n",
       "      <td>friends</td>\n",
       "      <td>car owner</td>\n",
       "      <td>single</td>\n",
       "      <td>independent</td>\n",
       "      <td>1985</td>\n",
       "      <td>variety</td>\n",
       "      <td>hard-worker</td>\n",
       "      <td>Catholic</td>\n",
       "      <td>student</td>\n",
       "      <td>yellow</td>\n",
       "      <td>88</td>\n",
       "      <td>medium</td>\n",
       "      <td>1.68</td>\n",
       "    </tr>\n",
       "  </tbody>\n",
       "</table>\n",
       "</div>"
      ],
      "text/plain": [
       "   userID   latitude   longitude smoker     drink_level dress_preference  \\\n",
       "34  U1035  18.839671  -99.223897   True  casual drinker    no preference   \n",
       "40  U1041  18.935191  -99.236240  False      abstemious    no preference   \n",
       "61  U1062  22.195826 -101.006317  False  casual drinker         informal   \n",
       "\n",
       "   ambience  transport marital_status        hijos  birth_year      interest  \\\n",
       "34  friends  car owner         single  independent        1985       variety   \n",
       "40  friends    on foot         single  independent        1985  eco-friendly   \n",
       "61  friends  car owner         single  independent        1985       variety   \n",
       "\n",
       "            personality  religion      activity   color  weight  budget  \\\n",
       "34  hunter-ostentatious      none       student     red      69  medium   \n",
       "40  hunter-ostentatious  Catholic  professional   white      40  medium   \n",
       "61          hard-worker  Catholic       student  yellow      88  medium   \n",
       "\n",
       "    height  \n",
       "34    1.75  \n",
       "40    1.62  \n",
       "61    1.68  "
      ]
     },
     "execution_count": 64,
     "metadata": {},
     "output_type": "execute_result"
    }
   ],
   "source": [
    "# You can test your code with the following code, you should see three users: U1035, U1041, U1062\n",
    "user_with_birth_year(1985)"
   ]
  },
  {
   "cell_type": "code",
   "execution_count": 65,
   "metadata": {
    "deletable": false,
    "editable": false,
    "nbgrader": {
     "cell_type": "code",
     "checksum": "9e9ddb42ff8a36048ecb737dc7658b83",
     "grade": true,
     "grade_id": "ex1-test",
     "locked": true,
     "points": 1,
     "schema_version": 3,
     "solution": false,
     "task": false
    }
   },
   "outputs": [],
   "source": [
    "# test cell\n",
    "assert (user_with_birth_year(1985)['userID'].unique() == np.array(['U1035', 'U1041', 'U1062'])).all()\n",
    "assert (user_with_birth_year(1982)['userID'].unique() == np.array(['U1013', 'U1020', 'U1117'])).all()"
   ]
  },
  {
   "cell_type": "markdown",
   "metadata": {
    "deletable": false,
    "editable": false,
    "nbgrader": {
     "cell_type": "markdown",
     "checksum": "86ce931eb9509e657d28cbaa56451b56",
     "grade": false,
     "grade_id": "cell-a79f9ec7fc65a22c",
     "locked": true,
     "schema_version": 3,
     "solution": false,
     "task": false
    }
   },
   "source": [
    "### Aggregation"
   ]
  },
  {
   "cell_type": "code",
   "execution_count": 66,
   "metadata": {
    "deletable": false,
    "editable": false,
    "nbgrader": {
     "cell_type": "code",
     "checksum": "b3c6ded1be84990772c86ae3509ccd30",
     "grade": false,
     "grade_id": "cell-fa7dceb1cd3194fa",
     "locked": true,
     "schema_version": 3,
     "solution": false,
     "task": false
    }
   },
   "outputs": [
    {
     "data": {
      "text/plain": [
       "40"
      ]
     },
     "execution_count": 66,
     "metadata": {},
     "output_type": "execute_result"
    }
   ],
   "source": [
    "# here is an example to obtain the min weight of the users:\n",
    "userprofile.weight.min()"
   ]
  },
  {
   "cell_type": "markdown",
   "metadata": {
    "deletable": false,
    "editable": false,
    "nbgrader": {
     "cell_type": "markdown",
     "checksum": "0df258919e82c6aaa73c53f31ef9e899",
     "grade": false,
     "grade_id": "cell-6edab750d35f22ff",
     "locked": true,
     "schema_version": 3,
     "solution": false,
     "task": false
    }
   },
   "source": [
    "### Exercise 2 (1 pt)\n",
    "\n",
    "Please complete the `mean_weight` function to calculate the mean weight of the users who listed the provided `transport_mode`. Again, we have made all the assert statements explicit so that you know whether your answer is correct or not."
   ]
  },
  {
   "cell_type": "code",
   "execution_count": 117,
   "metadata": {
    "deletable": false,
    "nbgrader": {
     "cell_type": "code",
     "checksum": "6adfa0b210cf8db38ef40b67ec491307",
     "grade": false,
     "grade_id": "ex2",
     "locked": false,
     "schema_version": 3,
     "solution": true,
     "task": false
    }
   },
   "outputs": [],
   "source": [
    "def mean_weight(transport_mode):\n",
    "    # YOUR CODE HERE\n",
    "    return userprofile[userprofile.transport == transport_mode].weight.mean()\n"
   ]
  },
  {
   "cell_type": "code",
   "execution_count": 118,
   "metadata": {
    "deletable": false,
    "editable": false,
    "nbgrader": {
     "cell_type": "code",
     "checksum": "60295bb849d6c81bc1182a6d37b49ce5",
     "grade": true,
     "grade_id": "ex2-test",
     "locked": true,
     "points": 1,
     "schema_version": 3,
     "solution": false,
     "task": false
    }
   },
   "outputs": [],
   "source": [
    "assert abs(mean_weight(\"car owner\") - 69.51428571428572) <1e-6\n",
    "assert abs(mean_weight(\"on foot\") - 65.42857142857143) <1e-6\n",
    "assert abs(mean_weight(\"public\") - 63.53658536585366) <1e-6"
   ]
  },
  {
   "cell_type": "markdown",
   "metadata": {
    "deletable": false,
    "editable": false,
    "nbgrader": {
     "cell_type": "markdown",
     "checksum": "d13eb69ebdb8bd9a1c707d50fa5be0b6",
     "grade": false,
     "grade_id": "cell-f1ebddcb4f88bf4e",
     "locked": true,
     "schema_version": 3,
     "solution": false,
     "task": false
    }
   },
   "source": [
    "### Merge"
   ]
  },
  {
   "cell_type": "markdown",
   "metadata": {
    "deletable": false,
    "editable": false,
    "nbgrader": {
     "cell_type": "markdown",
     "checksum": "692077f0476218dbc34aa795099e9fba",
     "grade": false,
     "grade_id": "cell-84657699b7574430",
     "locked": true,
     "schema_version": 3,
     "solution": false,
     "task": false
    }
   },
   "source": [
    "### Exercise 3 (1 pt)\n",
    "\n",
    "In this exercise, let's practice different ways of merging two tables.  We want to merge two tables about restaurants, cuisine and parking, and check the sizes of the merged tables.  However, because the two dataframes do not fully overlap with each other, let's try different ways of merging:\n",
    "\n",
    "1. Only restaurants showing up in both dataframes counts\n",
    "2. All restaurants in the cuisine dataframe should counts\n",
    "3. All restaurants in the parking dataframe should counts\n",
    "4. Restaurants shown up in either dataframe should counts\n",
    "\n",
    "We have implemented the first way of merging for you, and provided the currect sizes of different merging. Now it is your job to implement the missing codes."
   ]
  },
  {
   "cell_type": "code",
   "execution_count": 206,
   "metadata": {
    "deletable": false,
    "nbgrader": {
     "cell_type": "code",
     "checksum": "578f3355c83d52e82581b6dcb7e8f9d5",
     "grade": false,
     "grade_id": "ex3",
     "locked": false,
     "schema_version": 3,
     "solution": true,
     "task": false
    }
   },
   "outputs": [],
   "source": [
    "def merge_exercise():\n",
    "    merge1 = cuisine.merge(parking)\n",
    "    ans1 = merge1.shape[0]\n",
    "    # YOUR CODE HERE\n",
    "    merge2 = cuisine.merge(parking, how = \"left\")\n",
    "    ans2 = merge2.shape[0]\n",
    "    merge3 = parking.merge(cuisine, how = \"left\")\n",
    "    ans3 = merge3.shape[0]\n",
    "    merge4 = cuisine.merge(parking, how = \"outer\")\n",
    "    ans4 = merge4.shape[0]\n",
    "    merge5 = cuisine.merge(parking, how = \"left\")\n",
    "    ans5 = merge5.shape[0]\n",
    "    return ans1, ans2, ans3, ans4, ans5"
   ]
  },
  {
   "cell_type": "code",
   "execution_count": 207,
   "metadata": {},
   "outputs": [
    {
     "data": {
      "text/plain": [
       "(647, 958, 812, 1123, 3)"
      ]
     },
     "execution_count": 207,
     "metadata": {},
     "output_type": "execute_result"
    }
   ],
   "source": [
    "merge_exercise()"
   ]
  },
  {
   "cell_type": "code",
   "execution_count": 189,
   "metadata": {
    "deletable": false,
    "editable": false,
    "nbgrader": {
     "cell_type": "code",
     "checksum": "c85f2614fc19b1ef9698685de25e3fce",
     "grade": true,
     "grade_id": "ex3-test",
     "locked": true,
     "points": 1,
     "schema_version": 3,
     "solution": false,
     "task": false
    }
   },
   "outputs": [],
   "source": [
    "assert (merge_exercise() == (647, 958, 812, 1123))"
   ]
  },
  {
   "cell_type": "markdown",
   "metadata": {
    "deletable": false,
    "editable": false,
    "nbgrader": {
     "cell_type": "markdown",
     "checksum": "e7209b84809f3a840876d2383cc673c6",
     "grade": false,
     "grade_id": "cell-ba588f639e6c6c4d",
     "locked": true,
     "schema_version": 3,
     "solution": false,
     "task": false
    }
   },
   "source": [
    "### Bonus exercise (0.5 pts)\n",
    "\n",
    "The sizes of cuisine and parking are 916 and 702 correspondingly, but several of the merged dataframes have more rows than the two numbers. Can you think about why? Write your answer in the following block (double-click to make it editable).\n",
    "\n",
    "Hint: To start, you can write some codes to identify the \"extra\" rows. Which restaurants are responsible for those \"extra\" rows, and why? "
   ]
  },
  {
   "cell_type": "markdown",
   "metadata": {
    "deletable": false,
    "nbgrader": {
     "cell_type": "markdown",
     "checksum": "03a08c8aa9c677d842a67b65811718c0",
     "grade": true,
     "grade_id": "bonus",
     "locked": false,
     "points": 0.5,
     "schema_version": 3,
     "solution": true,
     "task": false
    }
   },
   "source": [
    "YOUR ANSWER HERE\n",
    "Number 2 is counting all of the restaurants that appear in the cuisine dataframe merged with the parking dataframe where possible. If a restaurant matches more than one row in the parking dataframe, it will return as 2 counts of that row. This also occurs in number 3. It is due to the fact that it is counting all of the instances where the restaurants match and not the \"distinct\" instances. This accounts for the \"extra\" rows."
   ]
  },
  {
   "cell_type": "markdown",
   "metadata": {
    "deletable": false,
    "editable": false,
    "nbgrader": {
     "cell_type": "markdown",
     "checksum": "582b83482a0501ac162a5492864af618",
     "grade": false,
     "grade_id": "cell-631ec5b48169f33c",
     "locked": true,
     "schema_version": 3,
     "solution": false,
     "task": false
    }
   },
   "source": [
    "### Exercise 4 (1 pt)\n",
    "\n",
    "let's switch our attention to the ratings dataset.\n",
    "\n",
    "Let's first define a new column called `total_rating` which is the sum of the three columns of the ratings dataframe (`rating`, `food_rating`, and `service_rating`), and then calculate the mean \"total_rating\" for each restaurant. You should return the calculated ratings as a new dataframe with two columns, a \"placeID\" column and a \"mean_rating\" column."
   ]
  },
  {
   "cell_type": "code",
   "execution_count": 229,
   "metadata": {
    "deletable": false,
    "nbgrader": {
     "cell_type": "code",
     "checksum": "7f163d7753d57b854bae2880c351183d",
     "grade": false,
     "grade_id": "ex4",
     "locked": false,
     "schema_version": 3,
     "solution": true,
     "task": false
    }
   },
   "outputs": [],
   "source": [
    "def restaurant_rating():\n",
    "    # Ideally, it is a good practice to keep the original data intact and create copies when modifying, \n",
    "    # such as adding new columns. In this exercise, it is OK to add the new column to the ratings dataframe.\n",
    "    # YOUR CODE HERE\n",
    "    ratings['total_rating'] = ratings['rating'] + ratings['food_rating'] + ratings['service_rating']\n",
    "    df = ratings.groupby('placeID').mean().reset_index()\n",
    "    df.drop('rating', inplace = True, axis = 1)\n",
    "    df.drop('food_rating', inplace = True, axis = 1)\n",
    "    df.drop('service_rating', inplace = True, axis = 1)\n",
    "    df.columns = ['placeID', 'mean_rating']\n",
    "    return df"
   ]
  },
  {
   "cell_type": "code",
   "execution_count": 230,
   "metadata": {
    "deletable": false,
    "editable": false,
    "nbgrader": {
     "cell_type": "code",
     "checksum": "daf0f8fa5b47881854888d7dc9a23486",
     "grade": true,
     "grade_id": "ex4-test",
     "locked": true,
     "points": 1,
     "schema_version": 3,
     "solution": false,
     "task": false
    }
   },
   "outputs": [],
   "source": [
    "returned_result = restaurant_rating()\n",
    "assert returned_result.shape == (130, 2)\n",
    "assert returned_result.columns.to_list() == [\"placeID\", 'mean_rating']\n",
    "\n",
    "returned_result.set_index(\"placeID\", inplace=True)\n",
    "assert abs(returned_result.loc[132560] - 1.750000)[0] < 1e-6\n",
    "assert abs(returned_result.loc[135104] - 3.142857)[0] < 1e-6"
   ]
  },
  {
   "cell_type": "markdown",
   "metadata": {
    "deletable": false,
    "editable": false,
    "nbgrader": {
     "cell_type": "markdown",
     "checksum": "9e96d0a528c6f85eacf80348b93a93b1",
     "grade": false,
     "grade_id": "cell-abe21a9860668a6b",
     "locked": true,
     "schema_version": 3,
     "solution": false,
     "task": false
    }
   },
   "source": [
    "Congratulations on finishing your first assignment!"
   ]
  },
  {
   "cell_type": "code",
   "execution_count": null,
   "metadata": {},
   "outputs": [],
   "source": []
  }
 ],
 "metadata": {
  "kernelspec": {
   "display_name": "conda_python3",
   "language": "python",
   "name": "conda_python3"
  },
  "language_info": {
   "codemirror_mode": {
    "name": "ipython",
    "version": 3
   },
   "file_extension": ".py",
   "mimetype": "text/x-python",
   "name": "python",
   "nbconvert_exporter": "python",
   "pygments_lexer": "ipython3",
   "version": "3.6.10"
  }
 },
 "nbformat": 4,
 "nbformat_minor": 2
}
